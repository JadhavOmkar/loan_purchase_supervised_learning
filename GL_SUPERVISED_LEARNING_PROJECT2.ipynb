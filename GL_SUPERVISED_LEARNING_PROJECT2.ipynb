{
 "cells": [
  {
   "cell_type": "markdown",
   "metadata": {
    "colab_type": "text",
    "id": "RoGBQ9GvwBSf"
   },
   "source": [
    "# **Objective:**\n",
    "**The classification goal is to predict the likelihood of a liability customer buying personal\n",
    "loans.**"
   ]
  },
  {
   "cell_type": "markdown",
   "metadata": {
    "colab_type": "text",
    "id": "LvHGmfvWwctr"
   },
   "source": [
    "![alt text](https://cdn.studentloanhero.com/wp-content/uploads/difference-between-subsidized-and-unsubsidized-loans-1-640x300.jpg)"
   ]
  },
  {
   "cell_type": "markdown",
   "metadata": {
    "colab_type": "text",
    "id": "1Sr3Xy2MxGiz"
   },
   "source": [
    "#### **List of task in the Project:**\n",
    "\n",
    "*   Study the data distribution in each attribute, share your findings\n",
    "*   Target column distribution\n",
    "*   Split the data into training and test set in the ratio of 70:30\n",
    "*   Use different classification models (Logistic, K-NN and Naïve Bayes) \n",
    "    to   predict the likelihood of a customer buying personal loans\n",
    "*   Print the confusion matrix for all the above models\n",
    "*   Reasoning on which is the best model in this case and why it performs\n",
    "    better\n",
    "\n",
    "\n",
    "\n",
    "\n",
    "\n"
   ]
  },
  {
   "cell_type": "markdown",
   "metadata": {
    "colab_type": "text",
    "id": "BVbtHsljyU-W"
   },
   "source": [
    "**Let's start of with import necessary libraries**"
   ]
  },
  {
   "cell_type": "code",
   "execution_count": 0,
   "metadata": {
    "colab": {},
    "colab_type": "code",
    "id": "vIJagLGdvQGB"
   },
   "outputs": [],
   "source": [
    "import pandas as pd ### for dataframe handling\n",
    "import numpy as np ##array handling\n",
    "import matplotlib.pyplot as plt ## plotting\n",
    "%matplotlib inline\n",
    "import seaborn as sns ## plotting\n",
    "from statsmodels.stats.outliers_influence import variance_inflation_factor  ## VIF calculations\n",
    "from imblearn.over_sampling import SMOTE ## to work on imbalance dataset\n",
    "from imblearn.pipeline import make_pipeline ## create pipelin\n",
    "from sklearn.metrics import accuracy_score ## accuracy calculations\n",
    "from sklearn.metrics import precision_score, recall_score, confusion_matrix ## model evaluation parameters\n",
    "from sklearn.metrics import f1_score, roc_auc_score, roc_curve ##some more model evaluation parameters\n",
    "from sklearn.model_selection import GridSearchCV ## gridsearch \n",
    "from sklearn.model_selection import train_test_split ### traintest split object\n",
    "from pylab import rcParams  ##plotiing\n",
    "import warnings\n",
    "warnings.filterwarnings(\"ignore\")"
   ]
  },
  {
   "cell_type": "markdown",
   "metadata": {
    "colab_type": "text",
    "id": "ZxjX0xjD0Xw_"
   },
   "source": [
    "**Let's call out some of helper functions which will be used further**"
   ]
  },
  {
   "cell_type": "code",
   "execution_count": 0,
   "metadata": {
    "colab": {},
    "colab_type": "code",
    "id": "EroIbSRF0K_M"
   },
   "outputs": [],
   "source": [
    "def quick_report(df):\n",
    "\n",
    "  \"\"\" \n",
    "  This function will give a quick overview about dataset shape, dtypes, column names and NULL value count\n",
    "  \n",
    "  \"\"\"\n",
    "  print('Data Types:')\n",
    "  print(df.dtypes)\n",
    "  print('Rows and Columns:')\n",
    "  print(df.shape)\n",
    "  print('Column Names:')\n",
    "  print(df.columns)\n",
    "  print('Null Values:')\n",
    "  print(df.apply(lambda x: sum(x.isnull()) / len(df)))"
   ]
  },
  {
   "cell_type": "code",
   "execution_count": 0,
   "metadata": {
    "colab": {},
    "colab_type": "code",
    "id": "T0RuXa3O1FFP"
   },
   "outputs": [],
   "source": [
    "def transform_minmaxscaler(x):\n",
    "  \"\"\"\n",
    "  This function will apply minmax transformation on the column input and will return the transformed version of the input parameter \n",
    "  \"\"\"\n",
    "  to_scaled=pd.DataFrame(x)\n",
    "  from sklearn.preprocessing import MinMaxScaler \n",
    "  scaler=MinMaxScaler(copy=False)\n",
    "  to_scaled_minmax = scaler.fit_transform(to_scaled)\n",
    "  to_scaled_minmax=pd.DataFrame(to_scaled_minmax,columns=[to_scaled.columns])\n",
    "  return to_scaled_minmax"
   ]
  },
  {
   "cell_type": "code",
   "execution_count": 0,
   "metadata": {
    "colab": {},
    "colab_type": "code",
    "id": "z5aezJ7e2JyP"
   },
   "outputs": [],
   "source": [
    "def generate_model_report(y_actual, y_predicted):\n",
    "    \"\"\"\n",
    "    Calculate model evaluation parameters with input as actual Y column and predicted Y column\n",
    "    \"\"\"\n",
    "    print(\"Accuracy = \" , accuracy_score(y_actual, y_predicted))\n",
    "    print(\"Precision = \" ,precision_score(y_actual, y_predicted))\n",
    "    print(\"Recall = \" ,recall_score(y_actual, y_predicted))\n",
    "    print(\"F1 Score = \" ,f1_score(y_actual, y_predicted))\n",
    "    pass "
   ]
  },
  {
   "cell_type": "code",
   "execution_count": 0,
   "metadata": {
    "colab": {},
    "colab_type": "code",
    "id": "iPpSLTTd2-4d"
   },
   "outputs": [],
   "source": [
    "def run_my_model_log(data,X,y):\n",
    "    \"\"\"\n",
    "    This function will run logistic regression model with the input as dataframe, X and Y. \n",
    "    It will split the data into train and test with test size=0.3\n",
    "    It will give the proportion of 1 and 0 in the complete dataframe, trainset and testset\n",
    "    It will also calculate the model evaluation parameters and Confusion matrix\n",
    "    \"\"\"\n",
    "    print('\\033[1m Following results are for Logistic Regression \\033[0;0m')\n",
    "\n",
    "    print(\"\\n\")\n",
    "    from sklearn.model_selection import train_test_split\n",
    "    from sklearn import metrics\n",
    "    from sklearn.linear_model import LogisticRegression\n",
    "    x_train, x_test, y_train, y_test = train_test_split(X, y, test_size=0.3, random_state=1)\n",
    "    # Fit the model on train\n",
    "    model = LogisticRegression(solver=\"liblinear\")\n",
    "    model.fit(x_train, y_train)\n",
    "    #predict on test\n",
    "    y_predict = model.predict(x_test)\n",
    "\n",
    "    model_score = model.score(x_test, y_test)\n",
    "    model_score_train=metrics.accuracy_score(y_train,model.predict(x_train))\n",
    "    model_recall_score=metrics.recall_score(y_test, y_predict, average='binary')\n",
    "    model_precision_score=metrics.precision_score(y_test, y_predict, average='binary')\n",
    "    model_f1_score=metrics.f1_score(y_test, y_predict, average='binary')\n",
    "    \n",
    "\n",
    "    print(\"Original PL True Values    : {0} ({1:0.2f}%)\".format(len(data.loc[data['Personal Loan'] == 1]), (len(data.loc[data['Personal Loan'] == 1])/len(data.index)) * 100))\n",
    "    print(\"Original PL False Values   : {0} ({1:0.2f}%)\".format(len(data.loc[data['Personal Loan'] == 0]), (len(data.loc[data['Personal Loan'] == 0])/len(data.index)) * 100))\n",
    "    print(\"\")\n",
    "    print(\"Training PL True Values    : {0} ({1:0.2f}%)\".format(y_train.sum()[0], (y_train.sum()[0]/len(y_train)) * 100))\n",
    "    print(\"Training PL False Values   : {0} ({1:0.2f}%)\".format((len(y_train)-(y_train.sum()))[0], ((len(y_train)-(y_train.sum()))[0]/len(y_train)) * 100))\n",
    "    print(\"\")\n",
    "    print(\"Test PL True Values        : {0} ({1:0.2f}%)\".format(y_test.sum()[0], (y_test.sum()[0]/len(y_test)) * 100))\n",
    "    print(\"Test PL False Values       : {0} ({1:0.2f}%)\".format((len(y_test)-(y_test.sum()))[0], ((len(y_test)-(y_test.sum()))[0]/len(y_test)) * 100))\n",
    "    print(\"\")\n",
    "    \n",
    "    print('The Model Score is {}'.format(round(model_score*100,2)))\n",
    "    print('The Model Score on train set is {}'.format(round(model_score_train*100,2)))\n",
    "    print('The Recall Score for the Model is {}'.format(round(model_recall_score*100,2)))\n",
    "    print('The Precision Score for the Model is {}'.format(round(model_precision_score*100,2)))\n",
    "    print('The F1 Score for the Model is {}'.format(round(model_f1_score*100,2)))\n",
    "    \n",
    "    \n",
    "    print('\\n')\n",
    "\n",
    "    \n",
    "    cm=metrics.confusion_matrix(y_test, y_predict, labels=[1, 0])\n",
    "\n",
    "    df_cm = pd.DataFrame(cm, index = [i for i in [\"1\",\"0\"]],\n",
    "                  columns = [i for i in [\"Predict 1\",\"Predict 0\"]])\n",
    "    plt.figure(figsize = (7,5))\n",
    "    return sns.heatmap(df_cm, annot=True,fmt='g')"
   ]
  },
  {
   "cell_type": "code",
   "execution_count": 0,
   "metadata": {
    "colab": {},
    "colab_type": "code",
    "id": "x-EEi3WWmQ7y"
   },
   "outputs": [],
   "source": [
    "def run_my_model_knn(X,y,k):\n",
    "    \"\"\"\n",
    "    This function will run KNN algorithm on the data.\n",
    "    \"\"\"\n",
    "    print('\\033[1m Following results are for KNN  \\033[0;0m')\n",
    "    print(\"\\n\")\n",
    "    from sklearn.neighbors import KNeighborsClassifier\n",
    "    from scipy.stats import zscore\n",
    "    from sklearn import metrics\n",
    "    # convert the features into z scores \n",
    "    XScaled  = X.apply(zscore)  # convert all attributes to Z scale \n",
    "    #XScaled.describe()\n",
    "    X_train, X_test, y_train, y_test = train_test_split(XScaled, y, test_size=0.30, random_state=1)\n",
    "    kkn_model = KNeighborsClassifier(n_neighbors=  k, weights = 'distance' )\n",
    "    kkn_model.fit(X_train,y_train.values.ravel())\n",
    "    model_score_train=metrics.accuracy_score(y_train,kkn_model.predict(X_train))\n",
    "    print('The Model Accuracy Score on train set is {}'.format(round(model_score_train,2)))\n",
    "    print(\"\\n\")\n",
    "    y_predict=kkn_model.predict(X_test)\n",
    "    generate_model_report(y_test,y_predict)\n",
    "    print(\"\\n\")\n",
    "    conf_mat=pd.crosstab(y_predict, y_test['Personal Loan'], rownames=['Predicted'], colnames=['Actual'])\n",
    "    print('Confusion Matrix')\n",
    "    print(\"\\n\")\n",
    "    print(conf_mat)\n"
   ]
  },
  {
   "cell_type": "code",
   "execution_count": 0,
   "metadata": {
    "colab": {},
    "colab_type": "code",
    "id": "0p8kvNjXtuRu"
   },
   "outputs": [],
   "source": [
    "def run_my_model_nb(X,y):\n",
    "    print('\\033[1m Following results are for Navie Bayes Classifier \\033[0;0m')\n",
    "    print(\"\\n\")\n",
    "    from sklearn.naive_bayes import GaussianNB\n",
    "    from sklearn import metrics\n",
    "    X_train, X_test, y_train, y_test = train_test_split(X, y, test_size=0.30, random_state=1)\n",
    "    nb_model = GaussianNB()\n",
    "    nb_model.fit(X_train, y_train.values.ravel())\n",
    "    model_score_train=metrics.accuracy_score(y_train,nb_model.predict(X_train))\n",
    "    print('The Model Accuracy Score on train set is {}'.format(round(model_score_train,2)))\n",
    "    print(\"\\n\")\n",
    "\n",
    "    y_predict=nb_model.predict(X_test)\n",
    "    generate_model_report(y_test,y_predict)\n",
    "    print(\"\\n\")\n",
    "    conf_mat=pd.crosstab(y_predict, y_test['Personal Loan'], rownames=['Predicted'], colnames=['Actual'])\n",
    "    print('Confusion Matrix')\n",
    "    print(\"\\n\")\n",
    "    print(conf_mat)\n"
   ]
  },
  {
   "cell_type": "markdown",
   "metadata": {
    "colab_type": "text",
    "id": "U9-iuNgk4yPN"
   },
   "source": [
    "#### **Let's import the dataframe**"
   ]
  },
  {
   "cell_type": "code",
   "execution_count": 0,
   "metadata": {
    "colab": {},
    "colab_type": "code",
    "id": "m7uG6jeM5RfL"
   },
   "outputs": [],
   "source": [
    "from google.colab import drive\n",
    "drive.mount('/content/drive')"
   ]
  },
  {
   "cell_type": "code",
   "execution_count": 0,
   "metadata": {
    "colab": {},
    "colab_type": "code",
    "id": "Hb1a39G54aUe"
   },
   "outputs": [],
   "source": [
    "path='/content/drive/My Drive/GL Project/Bank_Personal_Loan_Modelling.csv'\n",
    "data=pd.read_csv(path)"
   ]
  },
  {
   "cell_type": "code",
   "execution_count": 11,
   "metadata": {
    "colab": {
     "base_uri": "https://localhost:8080/",
     "height": 197
    },
    "colab_type": "code",
    "id": "WlivAfRR5kg3",
    "outputId": "356b6b24-ad26-4f94-ab1e-ba4c7fc7e343"
   },
   "outputs": [
    {
     "data": {
      "text/html": [
       "<div>\n",
       "<style scoped>\n",
       "    .dataframe tbody tr th:only-of-type {\n",
       "        vertical-align: middle;\n",
       "    }\n",
       "\n",
       "    .dataframe tbody tr th {\n",
       "        vertical-align: top;\n",
       "    }\n",
       "\n",
       "    .dataframe thead th {\n",
       "        text-align: right;\n",
       "    }\n",
       "</style>\n",
       "<table border=\"1\" class=\"dataframe\">\n",
       "  <thead>\n",
       "    <tr style=\"text-align: right;\">\n",
       "      <th></th>\n",
       "      <th>ID</th>\n",
       "      <th>Age</th>\n",
       "      <th>Experience</th>\n",
       "      <th>Income</th>\n",
       "      <th>ZIP Code</th>\n",
       "      <th>Family</th>\n",
       "      <th>CCAvg</th>\n",
       "      <th>Education</th>\n",
       "      <th>Mortgage</th>\n",
       "      <th>Personal Loan</th>\n",
       "      <th>Securities Account</th>\n",
       "      <th>CD Account</th>\n",
       "      <th>Online</th>\n",
       "      <th>CreditCard</th>\n",
       "    </tr>\n",
       "  </thead>\n",
       "  <tbody>\n",
       "    <tr>\n",
       "      <th>0</th>\n",
       "      <td>1</td>\n",
       "      <td>25</td>\n",
       "      <td>1</td>\n",
       "      <td>49</td>\n",
       "      <td>91107</td>\n",
       "      <td>4</td>\n",
       "      <td>1.6</td>\n",
       "      <td>1</td>\n",
       "      <td>0</td>\n",
       "      <td>0</td>\n",
       "      <td>1</td>\n",
       "      <td>0</td>\n",
       "      <td>0</td>\n",
       "      <td>0</td>\n",
       "    </tr>\n",
       "    <tr>\n",
       "      <th>1</th>\n",
       "      <td>2</td>\n",
       "      <td>45</td>\n",
       "      <td>19</td>\n",
       "      <td>34</td>\n",
       "      <td>90089</td>\n",
       "      <td>3</td>\n",
       "      <td>1.5</td>\n",
       "      <td>1</td>\n",
       "      <td>0</td>\n",
       "      <td>0</td>\n",
       "      <td>1</td>\n",
       "      <td>0</td>\n",
       "      <td>0</td>\n",
       "      <td>0</td>\n",
       "    </tr>\n",
       "    <tr>\n",
       "      <th>2</th>\n",
       "      <td>3</td>\n",
       "      <td>39</td>\n",
       "      <td>15</td>\n",
       "      <td>11</td>\n",
       "      <td>94720</td>\n",
       "      <td>1</td>\n",
       "      <td>1.0</td>\n",
       "      <td>1</td>\n",
       "      <td>0</td>\n",
       "      <td>0</td>\n",
       "      <td>0</td>\n",
       "      <td>0</td>\n",
       "      <td>0</td>\n",
       "      <td>0</td>\n",
       "    </tr>\n",
       "    <tr>\n",
       "      <th>3</th>\n",
       "      <td>4</td>\n",
       "      <td>35</td>\n",
       "      <td>9</td>\n",
       "      <td>100</td>\n",
       "      <td>94112</td>\n",
       "      <td>1</td>\n",
       "      <td>2.7</td>\n",
       "      <td>2</td>\n",
       "      <td>0</td>\n",
       "      <td>0</td>\n",
       "      <td>0</td>\n",
       "      <td>0</td>\n",
       "      <td>0</td>\n",
       "      <td>0</td>\n",
       "    </tr>\n",
       "    <tr>\n",
       "      <th>4</th>\n",
       "      <td>5</td>\n",
       "      <td>35</td>\n",
       "      <td>8</td>\n",
       "      <td>45</td>\n",
       "      <td>91330</td>\n",
       "      <td>4</td>\n",
       "      <td>1.0</td>\n",
       "      <td>2</td>\n",
       "      <td>0</td>\n",
       "      <td>0</td>\n",
       "      <td>0</td>\n",
       "      <td>0</td>\n",
       "      <td>0</td>\n",
       "      <td>1</td>\n",
       "    </tr>\n",
       "  </tbody>\n",
       "</table>\n",
       "</div>"
      ],
      "text/plain": [
       "   ID  Age  Experience  ...  CD Account  Online  CreditCard\n",
       "0   1   25           1  ...           0       0           0\n",
       "1   2   45          19  ...           0       0           0\n",
       "2   3   39          15  ...           0       0           0\n",
       "3   4   35           9  ...           0       0           0\n",
       "4   5   35           8  ...           0       0           1\n",
       "\n",
       "[5 rows x 14 columns]"
      ]
     },
     "execution_count": 11,
     "metadata": {
      "tags": []
     },
     "output_type": "execute_result"
    }
   ],
   "source": [
    "data.head()\n",
    "## dataframe is been successfully loaded into the notebook!!!"
   ]
  },
  {
   "cell_type": "code",
   "execution_count": 0,
   "metadata": {
    "colab": {
     "base_uri": "https://localhost:8080/",
     "height": 710
    },
    "colab_type": "code",
    "id": "A9r-ue885obH",
    "outputId": "26f686f9-7297-4809-8694-4947d2c1603e"
   },
   "outputs": [
    {
     "name": "stdout",
     "output_type": "stream",
     "text": [
      "Data Types:\n",
      "ID                      int64\n",
      "Age                     int64\n",
      "Experience              int64\n",
      "Income                  int64\n",
      "ZIP Code                int64\n",
      "Family                  int64\n",
      "CCAvg                 float64\n",
      "Education               int64\n",
      "Mortgage                int64\n",
      "Personal Loan           int64\n",
      "Securities Account      int64\n",
      "CD Account              int64\n",
      "Online                  int64\n",
      "CreditCard              int64\n",
      "dtype: object\n",
      "Rows and Columns:\n",
      "(5000, 14)\n",
      "Column Names:\n",
      "Index(['ID', 'Age', 'Experience', 'Income', 'ZIP Code', 'Family', 'CCAvg',\n",
      "       'Education', 'Mortgage', 'Personal Loan', 'Securities Account',\n",
      "       'CD Account', 'Online', 'CreditCard'],\n",
      "      dtype='object')\n",
      "Null Values:\n",
      "ID                    0.0\n",
      "Age                   0.0\n",
      "Experience            0.0\n",
      "Income                0.0\n",
      "ZIP Code              0.0\n",
      "Family                0.0\n",
      "CCAvg                 0.0\n",
      "Education             0.0\n",
      "Mortgage              0.0\n",
      "Personal Loan         0.0\n",
      "Securities Account    0.0\n",
      "CD Account            0.0\n",
      "Online                0.0\n",
      "CreditCard            0.0\n",
      "dtype: float64\n"
     ]
    }
   ],
   "source": [
    "quick_report(data)"
   ]
  },
  {
   "cell_type": "markdown",
   "metadata": {
    "colab_type": "text",
    "id": "DOpSqk6h6PkA"
   },
   "source": [
    "The dataframe has 5000 observations and 14 columns. It doesn't contain any NULL values. "
   ]
  },
  {
   "cell_type": "code",
   "execution_count": 12,
   "metadata": {
    "colab": {
     "base_uri": "https://localhost:8080/",
     "height": 467
    },
    "colab_type": "code",
    "id": "aLfxsfAp6EKx",
    "outputId": "1b452040-62cd-49eb-8278-1d55e0b40a83"
   },
   "outputs": [
    {
     "data": {
      "text/html": [
       "<div>\n",
       "<style scoped>\n",
       "    .dataframe tbody tr th:only-of-type {\n",
       "        vertical-align: middle;\n",
       "    }\n",
       "\n",
       "    .dataframe tbody tr th {\n",
       "        vertical-align: top;\n",
       "    }\n",
       "\n",
       "    .dataframe thead th {\n",
       "        text-align: right;\n",
       "    }\n",
       "</style>\n",
       "<table border=\"1\" class=\"dataframe\">\n",
       "  <thead>\n",
       "    <tr style=\"text-align: right;\">\n",
       "      <th></th>\n",
       "      <th>count</th>\n",
       "      <th>mean</th>\n",
       "      <th>std</th>\n",
       "      <th>min</th>\n",
       "      <th>25%</th>\n",
       "      <th>50%</th>\n",
       "      <th>75%</th>\n",
       "      <th>max</th>\n",
       "    </tr>\n",
       "  </thead>\n",
       "  <tbody>\n",
       "    <tr>\n",
       "      <th>ID</th>\n",
       "      <td>5000.0</td>\n",
       "      <td>2500.500000</td>\n",
       "      <td>1443.520003</td>\n",
       "      <td>1.0</td>\n",
       "      <td>1250.75</td>\n",
       "      <td>2500.5</td>\n",
       "      <td>3750.25</td>\n",
       "      <td>5000.0</td>\n",
       "    </tr>\n",
       "    <tr>\n",
       "      <th>Age</th>\n",
       "      <td>5000.0</td>\n",
       "      <td>45.338400</td>\n",
       "      <td>11.463166</td>\n",
       "      <td>23.0</td>\n",
       "      <td>35.00</td>\n",
       "      <td>45.0</td>\n",
       "      <td>55.00</td>\n",
       "      <td>67.0</td>\n",
       "    </tr>\n",
       "    <tr>\n",
       "      <th>Experience</th>\n",
       "      <td>5000.0</td>\n",
       "      <td>20.104600</td>\n",
       "      <td>11.467954</td>\n",
       "      <td>-3.0</td>\n",
       "      <td>10.00</td>\n",
       "      <td>20.0</td>\n",
       "      <td>30.00</td>\n",
       "      <td>43.0</td>\n",
       "    </tr>\n",
       "    <tr>\n",
       "      <th>Income</th>\n",
       "      <td>5000.0</td>\n",
       "      <td>73.774200</td>\n",
       "      <td>46.033729</td>\n",
       "      <td>8.0</td>\n",
       "      <td>39.00</td>\n",
       "      <td>64.0</td>\n",
       "      <td>98.00</td>\n",
       "      <td>224.0</td>\n",
       "    </tr>\n",
       "    <tr>\n",
       "      <th>ZIP Code</th>\n",
       "      <td>5000.0</td>\n",
       "      <td>93152.503000</td>\n",
       "      <td>2121.852197</td>\n",
       "      <td>9307.0</td>\n",
       "      <td>91911.00</td>\n",
       "      <td>93437.0</td>\n",
       "      <td>94608.00</td>\n",
       "      <td>96651.0</td>\n",
       "    </tr>\n",
       "    <tr>\n",
       "      <th>Family</th>\n",
       "      <td>5000.0</td>\n",
       "      <td>2.396400</td>\n",
       "      <td>1.147663</td>\n",
       "      <td>1.0</td>\n",
       "      <td>1.00</td>\n",
       "      <td>2.0</td>\n",
       "      <td>3.00</td>\n",
       "      <td>4.0</td>\n",
       "    </tr>\n",
       "    <tr>\n",
       "      <th>CCAvg</th>\n",
       "      <td>5000.0</td>\n",
       "      <td>1.937938</td>\n",
       "      <td>1.747659</td>\n",
       "      <td>0.0</td>\n",
       "      <td>0.70</td>\n",
       "      <td>1.5</td>\n",
       "      <td>2.50</td>\n",
       "      <td>10.0</td>\n",
       "    </tr>\n",
       "    <tr>\n",
       "      <th>Education</th>\n",
       "      <td>5000.0</td>\n",
       "      <td>1.881000</td>\n",
       "      <td>0.839869</td>\n",
       "      <td>1.0</td>\n",
       "      <td>1.00</td>\n",
       "      <td>2.0</td>\n",
       "      <td>3.00</td>\n",
       "      <td>3.0</td>\n",
       "    </tr>\n",
       "    <tr>\n",
       "      <th>Mortgage</th>\n",
       "      <td>5000.0</td>\n",
       "      <td>56.498800</td>\n",
       "      <td>101.713802</td>\n",
       "      <td>0.0</td>\n",
       "      <td>0.00</td>\n",
       "      <td>0.0</td>\n",
       "      <td>101.00</td>\n",
       "      <td>635.0</td>\n",
       "    </tr>\n",
       "    <tr>\n",
       "      <th>Personal Loan</th>\n",
       "      <td>5000.0</td>\n",
       "      <td>0.096000</td>\n",
       "      <td>0.294621</td>\n",
       "      <td>0.0</td>\n",
       "      <td>0.00</td>\n",
       "      <td>0.0</td>\n",
       "      <td>0.00</td>\n",
       "      <td>1.0</td>\n",
       "    </tr>\n",
       "    <tr>\n",
       "      <th>Securities Account</th>\n",
       "      <td>5000.0</td>\n",
       "      <td>0.104400</td>\n",
       "      <td>0.305809</td>\n",
       "      <td>0.0</td>\n",
       "      <td>0.00</td>\n",
       "      <td>0.0</td>\n",
       "      <td>0.00</td>\n",
       "      <td>1.0</td>\n",
       "    </tr>\n",
       "    <tr>\n",
       "      <th>CD Account</th>\n",
       "      <td>5000.0</td>\n",
       "      <td>0.060400</td>\n",
       "      <td>0.238250</td>\n",
       "      <td>0.0</td>\n",
       "      <td>0.00</td>\n",
       "      <td>0.0</td>\n",
       "      <td>0.00</td>\n",
       "      <td>1.0</td>\n",
       "    </tr>\n",
       "    <tr>\n",
       "      <th>Online</th>\n",
       "      <td>5000.0</td>\n",
       "      <td>0.596800</td>\n",
       "      <td>0.490589</td>\n",
       "      <td>0.0</td>\n",
       "      <td>0.00</td>\n",
       "      <td>1.0</td>\n",
       "      <td>1.00</td>\n",
       "      <td>1.0</td>\n",
       "    </tr>\n",
       "    <tr>\n",
       "      <th>CreditCard</th>\n",
       "      <td>5000.0</td>\n",
       "      <td>0.294000</td>\n",
       "      <td>0.455637</td>\n",
       "      <td>0.0</td>\n",
       "      <td>0.00</td>\n",
       "      <td>0.0</td>\n",
       "      <td>1.00</td>\n",
       "      <td>1.0</td>\n",
       "    </tr>\n",
       "  </tbody>\n",
       "</table>\n",
       "</div>"
      ],
      "text/plain": [
       "                     count          mean  ...       75%      max\n",
       "ID                  5000.0   2500.500000  ...   3750.25   5000.0\n",
       "Age                 5000.0     45.338400  ...     55.00     67.0\n",
       "Experience          5000.0     20.104600  ...     30.00     43.0\n",
       "Income              5000.0     73.774200  ...     98.00    224.0\n",
       "ZIP Code            5000.0  93152.503000  ...  94608.00  96651.0\n",
       "Family              5000.0      2.396400  ...      3.00      4.0\n",
       "CCAvg               5000.0      1.937938  ...      2.50     10.0\n",
       "Education           5000.0      1.881000  ...      3.00      3.0\n",
       "Mortgage            5000.0     56.498800  ...    101.00    635.0\n",
       "Personal Loan       5000.0      0.096000  ...      0.00      1.0\n",
       "Securities Account  5000.0      0.104400  ...      0.00      1.0\n",
       "CD Account          5000.0      0.060400  ...      0.00      1.0\n",
       "Online              5000.0      0.596800  ...      1.00      1.0\n",
       "CreditCard          5000.0      0.294000  ...      1.00      1.0\n",
       "\n",
       "[14 rows x 8 columns]"
      ]
     },
     "execution_count": 12,
     "metadata": {
      "tags": []
     },
     "output_type": "execute_result"
    }
   ],
   "source": [
    "data.describe().transpose()"
   ]
  },
  {
   "cell_type": "markdown",
   "metadata": {
    "colab_type": "text",
    "id": "qQyCvV6HJLKH"
   },
   "source": [
    "Highest age of the individual which was part of the campaign is 67 and lowest is 23. Distribution for CCAvg and Income attritbutes is skewwed"
   ]
  },
  {
   "cell_type": "code",
   "execution_count": 0,
   "metadata": {
    "colab": {
     "base_uri": "https://localhost:8080/",
     "height": 893
    },
    "colab_type": "code",
    "id": "UhGtmv1g6n1T",
    "outputId": "e08b9e87-a62a-4d45-f6c7-1f67fb0098fc"
   },
   "outputs": [
    {
     "data": {
      "text/plain": [
       "array([[<matplotlib.axes._subplots.AxesSubplot object at 0x7efea6c27e10>,\n",
       "        <matplotlib.axes._subplots.AxesSubplot object at 0x7efea6b654a8>,\n",
       "        <matplotlib.axes._subplots.AxesSubplot object at 0x7efea6b99a58>],\n",
       "       [<matplotlib.axes._subplots.AxesSubplot object at 0x7efea6b58048>,\n",
       "        <matplotlib.axes._subplots.AxesSubplot object at 0x7efea6b095f8>,\n",
       "        <matplotlib.axes._subplots.AxesSubplot object at 0x7efea6ab8ba8>],\n",
       "       [<matplotlib.axes._subplots.AxesSubplot object at 0x7efea6a78198>,\n",
       "        <matplotlib.axes._subplots.AxesSubplot object at 0x7efea6a26780>,\n",
       "        <matplotlib.axes._subplots.AxesSubplot object at 0x7efea6a267b8>],\n",
       "       [<matplotlib.axes._subplots.AxesSubplot object at 0x7efea6a142e8>,\n",
       "        <matplotlib.axes._subplots.AxesSubplot object at 0x7efea69c4898>,\n",
       "        <matplotlib.axes._subplots.AxesSubplot object at 0x7efea6975e48>]],\n",
       "      dtype=object)"
      ]
     },
     "execution_count": 12,
     "metadata": {
      "tags": []
     },
     "output_type": "execute_result"
    },
    {
     "data": {
      "image/png": "[encoded data removed]",
      "text/plain": [
       "<Figure size 792x792 with 12 Axes>"
      ]
     },
     "metadata": {
      "tags": []
     },
     "output_type": "display_data"
    }
   ],
   "source": [
    "cols = [col for col in data.columns if col not in ['ID', 'ZIP Code']]\n",
    "df = data[cols]\n",
    "df[df.dtypes[(df.dtypes==\"float64\")|(df.dtypes==\"int64\")]\n",
    "                        .index.values].hist(figsize=[11,11])"
   ]
  },
  {
   "cell_type": "code",
   "execution_count": 0,
   "metadata": {
    "colab": {
     "base_uri": "https://localhost:8080/",
     "height": 426
    },
    "colab_type": "code",
    "id": "VdSTCUwbJILi",
    "outputId": "f6c7746a-140a-4979-9984-fa3b3635c5e9"
   },
   "outputs": [
    {
     "data": {
      "text/plain": [
       "<matplotlib.axes._subplots.AxesSubplot at 0x7efea6841710>"
      ]
     },
     "execution_count": 14,
     "metadata": {
      "tags": []
     },
     "output_type": "execute_result"
    },
    {
     "data": {
      "image/png": "[encoded data removed]",
      "text/plain": [
       "<Figure size 432x432 with 2 Axes>"
      ]
     },
     "metadata": {
      "tags": []
     },
     "output_type": "display_data"
    }
   ],
   "source": [
    "data2=data[['Age','Experience', 'Income','CCAvg', 'Mortgage', 'Personal Loan']]\n",
    "fig_dims = (6,6)\n",
    "fig, ax = plt.subplots(figsize=fig_dims)\n",
    "sns.heatmap(data2.corr(),annot=True,square=True,ax=ax)"
   ]
  },
  {
   "cell_type": "code",
   "execution_count": 0,
   "metadata": {
    "colab": {
     "base_uri": "https://localhost:8080/",
     "height": 443
    },
    "colab_type": "code",
    "id": "3liSUWNTXRQt",
    "outputId": "d7809e4b-5466-4bb3-ff59-865aea95de71"
   },
   "outputs": [
    {
     "name": "stdout",
     "output_type": "stream",
     "text": [
      "1    29.44\n",
      "2    25.92\n",
      "4    24.44\n",
      "3    20.20\n",
      "Name: Family, dtype: float64\n",
      "1    41.92\n",
      "3    30.02\n",
      "2    28.06\n",
      "Name: Education, dtype: float64\n",
      "0    89.56\n",
      "1    10.44\n",
      "Name: Securities Account, dtype: float64\n",
      "0    93.96\n",
      "1     6.04\n",
      "Name: CD Account, dtype: float64\n",
      "1    59.68\n",
      "0    40.32\n",
      "Name: Online, dtype: float64\n",
      "0    70.6\n",
      "1    29.4\n",
      "Name: CreditCard, dtype: float64\n",
      "0    90.4\n",
      "1     9.6\n",
      "Name: Personal Loan, dtype: float64\n"
     ]
    }
   ],
   "source": [
    "cat= ['Family','Education','Securities Account',\n",
    "       'CD Account', 'Online', 'CreditCard','Personal Loan']\n",
    "for col in cat:\n",
    "  print(data[col].value_counts(normalize=True)*100)"
   ]
  },
  {
   "cell_type": "code",
   "execution_count": 0,
   "metadata": {
    "colab": {
     "base_uri": "https://localhost:8080/",
     "height": 242
    },
    "colab_type": "code",
    "id": "csWF0A2fFh_e",
    "outputId": "18e17cc4-215e-49f6-db10-c4ccada56168"
   },
   "outputs": [
    {
     "data": {
      "text/plain": [
       "<seaborn.axisgrid.FacetGrid at 0x7efea4ee0da0>"
      ]
     },
     "execution_count": 16,
     "metadata": {
      "tags": []
     },
     "output_type": "execute_result"
    },
    {
     "data": {
      "image/png": "[encoded data removed]",
      "text/plain": [
       "<Figure size 942x216 with 1 Axes>"
      ]
     },
     "metadata": {
      "tags": []
     },
     "output_type": "display_data"
    }
   ],
   "source": [
    "fig = sns.FacetGrid(data,hue='Personal Loan',aspect=4)\n",
    "fig.map(sns.kdeplot,'Income',shade=True)\n",
    "fig.add_legend()"
   ]
  },
  {
   "cell_type": "code",
   "execution_count": 0,
   "metadata": {
    "colab": {
     "base_uri": "https://localhost:8080/",
     "height": 242
    },
    "colab_type": "code",
    "id": "GyQO8AYVGSF0",
    "outputId": "f63a948f-f19f-4e9e-eb19-1f1b9af20ad2"
   },
   "outputs": [
    {
     "data": {
      "text/plain": [
       "<seaborn.axisgrid.FacetGrid at 0x7efea25d7cf8>"
      ]
     },
     "execution_count": 17,
     "metadata": {
      "tags": []
     },
     "output_type": "execute_result"
    },
    {
     "data": {
      "image/png": "[encoded data removed]",
      "text/plain": [
       "<Figure size 942x216 with 1 Axes>"
      ]
     },
     "metadata": {
      "tags": []
     },
     "output_type": "display_data"
    }
   ],
   "source": [
    "fig = sns.FacetGrid(data,hue='Personal Loan',aspect=4)\n",
    "fig.map(sns.kdeplot,'Mortgage',shade=True)\n",
    "fig.add_legend()"
   ]
  },
  {
   "cell_type": "markdown",
   "metadata": {
    "colab_type": "text",
    "id": "XPmsu-Du-WjT"
   },
   "source": [
    "#### **1. Observations on Independent variables**\n",
    "\n",
    "\n",
    "*   As mentioned earlier, distributions for CCAvg, Income and Mortgage is skewwed to the right meanning we might need to apply some transformation on the columns\n",
    "*   Dataframe contains highest number of customers who are bachelors followed by customers with family of 2\n",
    "*   Close to 40% of the customer base is Undergraduate followed by approx equal number of Graduate and Professionals.\n",
    "*   Age and Experience are highly correlated to each other. \n",
    "*   Income is correlated with the target variable also, Higher the Income, higher is the chance of opting for Personal Loan\n",
    "*   50% of the base have zero Mortgage\n",
    "*   90% of customers do not have security account with the bank\n",
    "*   94% of the customer don't have cash deposit account with the bank\n",
    "*   Siginificant number of inidividuals prefer Online Banking\n",
    "*   10% of the customers are holding Credit Card\n",
    "\n",
    "\n",
    "\n",
    "\n",
    "\n",
    "\n",
    "\n",
    "\n",
    "\n",
    "\n",
    "\n",
    "\n"
   ]
  },
  {
   "cell_type": "markdown",
   "metadata": {
    "colab_type": "text",
    "id": "1_7qEpkJCiWE"
   },
   "source": [
    "#### **2. Observations on Target variable**\n",
    "\n",
    "\n",
    "10% of the customer base have opted for the Personal Loan while the rest 90% have not shown interest in the campaign indicating that the distribution of the class is not balanced. In such cases when we try to build the model where the target class is imbalance, the model tends to predict the majority class more often compared to the minority class. To overcome the Imbalanced problem we will need to use sampling technique. \n",
    "\n"
   ]
  },
  {
   "cell_type": "markdown",
   "metadata": {
    "colab_type": "text",
    "id": "hASxpMZFfCuN"
   },
   "source": [
    "#### Standardize the variables"
   ]
  },
  {
   "cell_type": "code",
   "execution_count": 0,
   "metadata": {
    "colab": {},
    "colab_type": "code",
    "id": "DABbHhZeYuaL"
   },
   "outputs": [],
   "source": [
    "to_scaled_minmax=transform_minmaxscaler(data[['Income','CCAvg','Mortgage']])"
   ]
  },
  {
   "cell_type": "code",
   "execution_count": 14,
   "metadata": {
    "colab": {
     "base_uri": "https://localhost:8080/",
     "height": 34
    },
    "colab_type": "code",
    "id": "QhkHxIgKfR6K",
    "outputId": "e460694d-af1e-49d0-b603-f124c9c5cfc3"
   },
   "outputs": [
    {
     "data": {
      "text/plain": [
       "((5000, 11), (5000, 1))"
      ]
     },
     "execution_count": 14,
     "metadata": {
      "tags": []
     },
     "output_type": "execute_result"
    }
   ],
   "source": [
    "X=data[['Age','Experience','Family','Education','Securities Account',\n",
    "       'CD Account', 'Online', 'CreditCard']]\n",
    "y=data[['Personal Loan']]       \n",
    "\n",
    "X=pd.concat([X,to_scaled_minmax],axis=1,ignore_index=True)\n",
    "\n",
    "X.columns=['Age','Experience','Family','Education','Securities Account',\n",
    "       'CD Account', 'Online', 'CreditCard','Income','CCAvg','Mortgage']\n",
    "\n",
    "X.shape,y.shape       "
   ]
  },
  {
   "cell_type": "markdown",
   "metadata": {
    "colab_type": "text",
    "id": "e0EMb7FSiK7z"
   },
   "source": [
    "### **Checking VIF among the predictors**"
   ]
  },
  {
   "cell_type": "code",
   "execution_count": 0,
   "metadata": {
    "colab": {
     "base_uri": "https://localhost:8080/",
     "height": 247
    },
    "colab_type": "code",
    "id": "OYAKjeiph_2e",
    "outputId": "04feead6-940a-4488-b2fa-5517c4732ff4"
   },
   "outputs": [
    {
     "data": {
      "text/plain": [
       "Age                    93.675767\n",
       "Experience             93.577470\n",
       "Family                  1.034041\n",
       "Education               1.114846\n",
       "Securities Account      1.137176\n",
       "CD Account              1.329842\n",
       "Online                  1.039584\n",
       "CreditCard              1.107884\n",
       "Income                  1.858986\n",
       "CCAvg                   1.728938\n",
       "Mortgage                1.051253\n",
       "const                 452.051398\n",
       "dtype: float64"
      ]
     },
     "execution_count": 26,
     "metadata": {
      "tags": []
     },
     "output_type": "execute_result"
    }
   ],
   "source": [
    "VF = X.assign(const=1)\n",
    "pd.Series([variance_inflation_factor(VF.values, i) \n",
    "               for i in range(VF.shape[1])], \n",
    "              index=VF.columns)"
   ]
  },
  {
   "cell_type": "code",
   "execution_count": 15,
   "metadata": {
    "colab": {
     "base_uri": "https://localhost:8080/",
     "height": 230
    },
    "colab_type": "code",
    "id": "reKTZvKSihpP",
    "outputId": "22841d91-2809-4f00-c784-3c1c51f1510c"
   },
   "outputs": [
    {
     "data": {
      "text/plain": [
       "Age                    1.008374\n",
       "Family                 1.032291\n",
       "Education              1.044019\n",
       "Securities Account     1.136822\n",
       "CD Account             1.328768\n",
       "Online                 1.039524\n",
       "CreditCard             1.107883\n",
       "Income                 1.854712\n",
       "CCAvg                  1.723904\n",
       "Mortgage               1.051253\n",
       "const                 34.213475\n",
       "dtype: float64"
      ]
     },
     "execution_count": 15,
     "metadata": {
      "tags": []
     },
     "output_type": "execute_result"
    }
   ],
   "source": [
    "#Let's drop Experience from the data and recalculate the VIF\n",
    "X=X.drop('Experience',axis=1)\n",
    "VF = X.assign(const=1)\n",
    "pd.Series([variance_inflation_factor(VF.values, i) \n",
    "               for i in range(VF.shape[1])], \n",
    "              index=VF.columns)"
   ]
  },
  {
   "cell_type": "markdown",
   "metadata": {
    "colab_type": "text",
    "id": "C5d1nCwjjM1R"
   },
   "source": [
    "#### **Running 1st Model in Logistic Regression for all variables except Experience which is highly correlated with Age**"
   ]
  },
  {
   "cell_type": "code",
   "execution_count": 0,
   "metadata": {
    "colab": {
     "base_uri": "https://localhost:8080/",
     "height": 695
    },
    "colab_type": "code",
    "id": "5qogNkr0i6uo",
    "outputId": "b0211934-c6c3-4adf-b9cd-880beb515f66"
   },
   "outputs": [
    {
     "name": "stdout",
     "output_type": "stream",
     "text": [
      "\u001b[1m Following results are for Logistic Regression \u001b[0;0m\n",
      "Original PL True Values    : 480 (9.60%)\n",
      "Original PL False Values   : 4520 (90.40%)\n",
      "\n",
      "Training PL True Values    : 331 (9.46%)\n",
      "Training PL False Values   : 3169 (90.54%)\n",
      "\n",
      "Test PL True Values        : 149 (9.93%)\n",
      "Test PL False Values       : 1351 (90.07%)\n",
      "\n",
      "The Model Score is 94.07\n",
      "The Model Score on train set is 94.86\n",
      "The Recall Score for the Model is 48.99\n",
      "The Precision Score for the Model is 84.88\n",
      "The F1 Score for the Model is 62.13\n",
      "\n",
      "\n"
     ]
    },
    {
     "name": "stderr",
     "output_type": "stream",
     "text": [
      "/usr/local/lib/python3.6/dist-packages/sklearn/utils/validation.py:760: DataConversionWarning: A column-vector y was passed when a 1d array was expected. Please change the shape of y to (n_samples, ), for example using ravel().\n",
      "  y = column_or_1d(y, warn=True)\n"
     ]
    },
    {
     "data": {
      "text/plain": [
       "<matplotlib.axes._subplots.AxesSubplot at 0x7efea2034b00>"
      ]
     },
     "execution_count": 76,
     "metadata": {
      "tags": []
     },
     "output_type": "execute_result"
    },
    {
     "data": {
      "image/png": "[encoded data removed]",
      "text/plain": [
       "<Figure size 504x360 with 2 Axes>"
      ]
     },
     "metadata": {
      "tags": []
     },
     "output_type": "display_data"
    }
   ],
   "source": [
    "run_my_model_log(data,X,y)"
   ]
  },
  {
   "cell_type": "code",
   "execution_count": 0,
   "metadata": {
    "colab": {
     "base_uri": "https://localhost:8080/",
     "height": 354
    },
    "colab_type": "code",
    "id": "gDKYovRnjAYA",
    "outputId": "6b56e3de-bef6-4b74-c475-744220c48561"
   },
   "outputs": [
    {
     "name": "stdout",
     "output_type": "stream",
     "text": [
      "\u001b[1m Following results are for KNN  \u001b[0;0m\n",
      "\n",
      "\n",
      "The Model Accuracy Score on train set is 1.0\n",
      "\n",
      "\n",
      "Accuracy =  0.9586666666666667\n",
      "Precision =  0.9484536082474226\n",
      "Recall =  0.6174496644295302\n",
      "F1 Score =  0.7479674796747967\n",
      "\n",
      "\n",
      "Confusion Matrix\n",
      "\n",
      "\n",
      "Actual        0   1\n",
      "Predicted          \n",
      "0          1346  57\n",
      "1             5  92\n"
     ]
    }
   ],
   "source": [
    "run_my_model_knn(X,y,5)"
   ]
  },
  {
   "cell_type": "code",
   "execution_count": 0,
   "metadata": {
    "colab": {
     "base_uri": "https://localhost:8080/",
     "height": 354
    },
    "colab_type": "code",
    "id": "b8oarK38nLnu",
    "outputId": "2a8c484a-08cc-4628-b899-21cdf37c6558"
   },
   "outputs": [
    {
     "name": "stdout",
     "output_type": "stream",
     "text": [
      "\u001b[1m Following results are for Navie Bayes Classifier \u001b[0;0m\n",
      "\n",
      "\n",
      "The Model Accuracy Score on train set is 0.89\n",
      "\n",
      "\n",
      "Accuracy =  0.8746666666666667\n",
      "Precision =  0.40669856459330145\n",
      "Recall =  0.5704697986577181\n",
      "F1 Score =  0.4748603351955307\n",
      "\n",
      "\n",
      "Confusion Matrix\n",
      "\n",
      "\n",
      "Actual        0   1\n",
      "Predicted          \n",
      "0          1227  64\n",
      "1           124  85\n"
     ]
    }
   ],
   "source": [
    "run_my_model_nb(X,y)"
   ]
  },
  {
   "cell_type": "markdown",
   "metadata": {
    "colab_type": "text",
    "id": "bypTz5d4x4rY"
   },
   "source": [
    "### **Trying to improve model accuracy using Feature Selection Method**"
   ]
  },
  {
   "cell_type": "markdown",
   "metadata": {
    "colab_type": "text",
    "id": "49WW_osHyt5-"
   },
   "source": [
    "##### Using Recursive Feature Elimination method for Feature Selection. We will select top 5 features"
   ]
  },
  {
   "cell_type": "code",
   "execution_count": 0,
   "metadata": {
    "colab": {
     "base_uri": "https://localhost:8080/",
     "height": 70
    },
    "colab_type": "code",
    "id": "eSNCNDT8zcO7",
    "outputId": "a19c332a-0157-49db-9192-d200d9f08144"
   },
   "outputs": [
    {
     "data": {
      "text/plain": [
       "Index(['Age', 'Family', 'Education', 'Securities Account', 'CD Account',\n",
       "       'Online', 'CreditCard', 'Income', 'CCAvg', 'Mortgage'],\n",
       "      dtype='object')"
      ]
     },
     "execution_count": 104,
     "metadata": {
      "tags": []
     },
     "output_type": "execute_result"
    }
   ],
   "source": [
    "X.columns"
   ]
  },
  {
   "cell_type": "code",
   "execution_count": 0,
   "metadata": {
    "colab": {},
    "colab_type": "code",
    "id": "pNG2Y6vfyGNP"
   },
   "outputs": [],
   "source": [
    "df=pd.concat([X,y],axis=1,ignore_index=True)"
   ]
  },
  {
   "cell_type": "code",
   "execution_count": 0,
   "metadata": {
    "colab": {
     "base_uri": "https://localhost:8080/",
     "height": 70
    },
    "colab_type": "code",
    "id": "XvzREzVVulPX",
    "outputId": "947ca2f8-6b86-4d53-8d6b-207fe72f8622"
   },
   "outputs": [
    {
     "name": "stdout",
     "output_type": "stream",
     "text": [
      "Num Features: 5\n",
      "Selected Features: [False False  True False  True False  True  True  True False]\n",
      "Feature Ranking: [6 4 1 2 1 3 1 1 1 5]\n"
     ]
    }
   ],
   "source": [
    "# Feature Extraction with RFE\n",
    "from sklearn.feature_selection import RFE\n",
    "from sklearn.linear_model import LogisticRegression\n",
    "array = df.values\n",
    "X = array[:,0:10]\n",
    "Y = array[:,10]\n",
    "# feature extraction\n",
    "model = LogisticRegression(solver=\"liblinear\")\n",
    "rfe = RFE(model, 5)\n",
    "fit = rfe.fit(X, Y)\n",
    "print(\"Num Features: %d\" % fit.n_features_)\n",
    "print(\"Selected Features: %s\" % fit.support_)\n",
    "print(\"Feature Ranking: %s\" % fit.ranking_)"
   ]
  },
  {
   "cell_type": "markdown",
   "metadata": {
    "colab_type": "text",
    "id": "JKdBamth2bef"
   },
   "source": [
    "#### **Top five features are 'Education', 'CD Account','CreditCard', 'Income', 'CCAvg'**\n"
   ]
  },
  {
   "cell_type": "code",
   "execution_count": 0,
   "metadata": {
    "colab": {},
    "colab_type": "code",
    "id": "zKuiC69h1CvI"
   },
   "outputs": [],
   "source": [
    "X=X[[ 'Education', 'CD Account','CreditCard', 'Income', 'CCAvg']]"
   ]
  },
  {
   "cell_type": "markdown",
   "metadata": {
    "colab_type": "text",
    "id": "IeCzzZmR3Hig"
   },
   "source": [
    "##### **Let's re-run the models on the new dataset**"
   ]
  },
  {
   "cell_type": "code",
   "execution_count": 0,
   "metadata": {
    "colab": {
     "base_uri": "https://localhost:8080/",
     "height": 731
    },
    "colab_type": "code",
    "id": "Uf0SZ70F3EPJ",
    "outputId": "b5bd52ac-daef-4ad8-adcb-f03a9be965c4"
   },
   "outputs": [
    {
     "name": "stdout",
     "output_type": "stream",
     "text": [
      "\u001b[1m Following results are for Logistic Regression \u001b[0;0m\n",
      "\n",
      "\n",
      "Original PL True Values    : 480 (9.60%)\n",
      "Original PL False Values   : 4520 (90.40%)\n",
      "\n",
      "Training PL True Values    : 331 (9.46%)\n",
      "Training PL False Values   : 3169 (90.54%)\n",
      "\n",
      "Test PL True Values        : 149 (9.93%)\n",
      "Test PL False Values       : 1351 (90.07%)\n",
      "\n",
      "The Model Score is 94.07\n",
      "The Model Score on train set is 94.57\n",
      "The Recall Score for the Model is 47.65\n",
      "The Precision Score for the Model is 86.59\n",
      "The F1 Score for the Model is 61.47\n",
      "\n",
      "\n"
     ]
    },
    {
     "name": "stderr",
     "output_type": "stream",
     "text": [
      "/usr/local/lib/python3.6/dist-packages/sklearn/utils/validation.py:760: DataConversionWarning: A column-vector y was passed when a 1d array was expected. Please change the shape of y to (n_samples, ), for example using ravel().\n",
      "  y = column_or_1d(y, warn=True)\n"
     ]
    },
    {
     "data": {
      "text/plain": [
       "<matplotlib.axes._subplots.AxesSubplot at 0x7efea1e88438>"
      ]
     },
     "execution_count": 108,
     "metadata": {
      "tags": []
     },
     "output_type": "execute_result"
    },
    {
     "data": {
      "image/png": "[encoded data removed]",
      "text/plain": [
       "<Figure size 504x360 with 2 Axes>"
      ]
     },
     "metadata": {
      "tags": []
     },
     "output_type": "display_data"
    }
   ],
   "source": [
    "run_my_model_log(data,X,y)"
   ]
  },
  {
   "cell_type": "code",
   "execution_count": 0,
   "metadata": {
    "colab": {
     "base_uri": "https://localhost:8080/",
     "height": 354
    },
    "colab_type": "code",
    "id": "G-fA8ykS3UuL",
    "outputId": "1592ed79-2a47-45bf-b312-b2357ce040cd"
   },
   "outputs": [
    {
     "name": "stdout",
     "output_type": "stream",
     "text": [
      "\u001b[1m Following results are for KNN  \u001b[0;0m\n",
      "\n",
      "\n",
      "The Model Accuracy Score on train set is 1.0\n",
      "\n",
      "\n",
      "Accuracy =  0.9626666666666667\n",
      "Precision =  0.8907563025210085\n",
      "Recall =  0.7114093959731543\n",
      "F1 Score =  0.7910447761194029\n",
      "\n",
      "\n",
      "Confusion Matrix\n",
      "\n",
      "\n",
      "Actual        0    1\n",
      "Predicted           \n",
      "0          1338   43\n",
      "1            13  106\n"
     ]
    }
   ],
   "source": [
    "run_my_model_knn(X,y,5)"
   ]
  },
  {
   "cell_type": "code",
   "execution_count": 0,
   "metadata": {
    "colab": {
     "base_uri": "https://localhost:8080/",
     "height": 354
    },
    "colab_type": "code",
    "id": "UaU_5n4E3c34",
    "outputId": "58c9ca88-f5af-427f-fac9-8462e768080a"
   },
   "outputs": [
    {
     "name": "stdout",
     "output_type": "stream",
     "text": [
      "\u001b[1m Following results are for Navie Bayes Classifier \u001b[0;0m\n",
      "\n",
      "\n",
      "The Model Accuracy Score on train set is 0.9\n",
      "\n",
      "\n",
      "Accuracy =  0.8853333333333333\n",
      "Precision =  0.4371584699453552\n",
      "Recall =  0.5369127516778524\n",
      "F1 Score =  0.4819277108433735\n",
      "\n",
      "\n",
      "Confusion Matrix\n",
      "\n",
      "\n",
      "Actual        0   1\n",
      "Predicted          \n",
      "0          1248  69\n",
      "1           103  80\n"
     ]
    }
   ],
   "source": [
    "run_my_model_nb(X,y)"
   ]
  },
  {
   "cell_type": "markdown",
   "metadata": {
    "colab_type": "text",
    "id": "WJcwFdrv4G7f"
   },
   "source": [
    "##### **Model Accuracy for all three model is excellent and pretty close to trainset accuracy too, indicating that our model is not overfitting. But we can't say that these is the best model because, the Recall score is low indicating that we are making significant number of FALSE NEGATIVE predictions. Our final objective is to identify the individuals who will buy Personal Loan. Due to the Imbalanced ratio of the target class, our model is classifying majority of the TRUE cases as Negative.** \n",
    "##### **In the campaign we can make few FALSE POSITIVE predictions and communicate a customer who is not interested in Personal Loan but our FALSE NEGATIVE cases should be very minimum i.e. the customer who have high propensity of taking Personal Loan should not be missed, which means we need to increase Recall. At the same time Precision shouldn't be very low. We need to use OVERSAMPLING technique to overcome this problem of IMBALANCED set**\n",
    "#### **We will use SMOTE**"
   ]
  },
  {
   "cell_type": "code",
   "execution_count": 0,
   "metadata": {
    "colab": {},
    "colab_type": "code",
    "id": "8oBmNoNx3whp"
   },
   "outputs": [],
   "source": [
    "X_train, X_test, Y_train, Y_test = train_test_split(X, y, \n",
    "                                                    test_size=0.3, \n",
    "                                                    random_state=1)"
   ]
  },
  {
   "cell_type": "markdown",
   "metadata": {
    "colab_type": "text",
    "id": "duAEtdoO88ps"
   },
   "source": [
    "#### **Creating Grid search pipeline to obtain optimal value of the SMOTE ratio**"
   ]
  },
  {
   "cell_type": "code",
   "execution_count": 0,
   "metadata": {
    "colab": {
     "base_uri": "https://localhost:8080/",
     "height": 314
    },
    "colab_type": "code",
    "id": "QlQDX-lGYULN",
    "outputId": "0878289a-0a0f-4c11-a121-bf9622922c03"
   },
   "outputs": [
    {
     "name": "stdout",
     "output_type": "stream",
     "text": [
      "Best parameters : {'smote__ratio': 0.531578947368421}\n"
     ]
    },
    {
     "data": {
      "text/plain": [
       "<matplotlib.axes._subplots.AxesSubplot at 0x7efea1c34320>"
      ]
     },
     "execution_count": 122,
     "metadata": {
      "tags": []
     },
     "output_type": "execute_result"
    },
    {
     "data": {
      "image/png": "[encoded data removed]",
      "text/plain": [
       "<Figure size 432x288 with 1 Axes>"
      ]
     },
     "metadata": {
      "tags": []
     },
     "output_type": "display_data"
    }
   ],
   "source": [
    "pipe = make_pipeline(\n",
    "    SMOTE(),\n",
    "    LogisticRegression(solver=\"liblinear\")\n",
    ")\n",
    "\n",
    "weights = np.linspace(0.3, 0.7, 20)\n",
    "\n",
    "gsc = GridSearchCV(\n",
    "    estimator=pipe,\n",
    "    param_grid={\n",
    "        'smote__ratio': weights\n",
    "    },\n",
    "    scoring='f1',\n",
    "    cv=5\n",
    ")\n",
    "grid_result = gsc.fit(X_train, Y_train.values.ravel())\n",
    "\n",
    "print(\"Best parameters : %s\" % grid_result.best_params_)\n",
    "weight_f1_score_df = pd.DataFrame({ 'score': grid_result.cv_results_['mean_test_score'],\n",
    "                                   'weight': weights })\n",
    "weight_f1_score_df.plot(x='weight')"
   ]
  },
  {
   "cell_type": "markdown",
   "metadata": {
    "colab_type": "text",
    "id": "4T2jetRN3wAU"
   },
   "source": [
    "##### **The optimum value of SMOTE ratio from the above grid search is 0.531578947368421 ~0.5**"
   ]
  },
  {
   "cell_type": "code",
   "execution_count": 0,
   "metadata": {
    "colab": {
     "base_uri": "https://localhost:8080/",
     "height": 158
    },
    "colab_type": "code",
    "id": "fdDNlUtU65C4",
    "outputId": "b36ef0c3-8bf1-411b-aabd-45e66b1b96d3"
   },
   "outputs": [
    {
     "name": "stdout",
     "output_type": "stream",
     "text": [
      "Accuracy =  0.9166666666666666\n",
      "Precision =  0.56\n",
      "Recall =  0.7516778523489933\n",
      "F1 Score =  0.6418338108882522\n",
      "Actual        0    1\n",
      "Predicted           \n",
      "0          1263   37\n",
      "1            88  112\n"
     ]
    }
   ],
   "source": [
    "pipe = make_pipeline(\n",
    "    SMOTE(ratio=0.531578947368421),\n",
    "    LogisticRegression(solver=\"liblinear\")\n",
    ")\n",
    "\n",
    "pipe.fit(X_train, Y_train)\n",
    "\n",
    "Y_Test_Pred = pipe.predict(X_test)\n",
    "\n",
    "generate_model_report(Y_test, Y_Test_Pred)\n",
    "\n",
    "conf_mat=pd.crosstab(Y_Test_Pred, Y_test['Personal Loan'], \n",
    "            rownames=['Predicted'], colnames=['Actual'])\n",
    "print(conf_mat)"
   ]
  },
  {
   "cell_type": "markdown",
   "metadata": {
    "colab_type": "text",
    "id": "AtOfJshGBQdZ"
   },
   "source": [
    "##### **Following functions will run Logistic Regression, KNN and Navie Bayes Classifier algorithm. We need to feed the sampling ratio as a input**"
   ]
  },
  {
   "cell_type": "code",
   "execution_count": 0,
   "metadata": {
    "colab": {},
    "colab_type": "code",
    "id": "H-hKzMVq70X8"
   },
   "outputs": [],
   "source": [
    "def run_smote_model_log(X,y,z):\n",
    "    print('\\033[1m Following results are for Logistic Regression using SMOTE \\033[0;0m')\n",
    "    X_train, X_test, Y_train, Y_test = train_test_split(X, y, \n",
    "                                                    test_size=0.3, \n",
    "                                                    random_state=1)\n",
    "    sm = SMOTE(random_state=12,ratio=z)\n",
    "    x_train_res, y_train_res = sm.fit_sample(X_train, Y_train)\n",
    "    from sklearn.linear_model import LogisticRegression\n",
    "    from sklearn import metrics\n",
    "    # Fit the model on train\n",
    "    model_sm = LogisticRegression(solver=\"liblinear\")\n",
    "    model_sm.fit(x_train_res, y_train_res.ravel())\n",
    "\n",
    "    model_score_train=metrics.accuracy_score(y_train_res,model_sm.predict(x_train_res))\n",
    "    print('The Model Accuracy Score on train set is {}'.format(round(model_score_train,2)))\n",
    "    print(\"\\n\")\n",
    "\n",
    "    #predict on test\n",
    "    y_predict = model_sm.predict(X_test)\n",
    "    generate_model_report(Y_test,y_predict)\n",
    "\n",
    "    print(\"\\n\")\n",
    "    conf_mat=pd.crosstab(y_predict, Y_test['Personal Loan'], rownames=['Predicted'], colnames=['Actual'])\n",
    "    print('\\033[1m Confusion Matrix \\033[0;0m')\n",
    "    print(\"\\n\")\n",
    "    print(conf_mat)\n",
    "\n"
   ]
  },
  {
   "cell_type": "code",
   "execution_count": 0,
   "metadata": {
    "colab": {},
    "colab_type": "code",
    "id": "Lj7uxs0nBouo"
   },
   "outputs": [],
   "source": [
    "def run_smote_model_knn(X,y,z,k):\n",
    "    print('\\033[1m Following results are for KNN using SMOTE \\033[0;0m')\n",
    "    from sklearn.neighbors import KNeighborsClassifier\n",
    "    from scipy.stats import zscore\n",
    "    from sklearn import metrics\n",
    "    # convert the features into z scores \n",
    "    XScaled  = X.apply(zscore)  # convert all attributes to Z scale \n",
    "    #XScaled.describe()\n",
    "    X_train, X_test, y_train, y_test = train_test_split(XScaled, y, test_size=0.30, random_state=1)\n",
    "    sm = SMOTE(random_state=12,ratio=z)\n",
    "    x_train_res, y_train_res = sm.fit_sample(X_train, y_train)\n",
    "    kkn_model = KNeighborsClassifier(n_neighbors=  k, weights = 'distance' )\n",
    "    kkn_model.fit(x_train_res, y_train_res)\n",
    "    model_score_train=metrics.accuracy_score(y_train_res,kkn_model.predict(x_train_res))\n",
    "    print('The Model Accuracy Score on train set is {}'.format(round(model_score_train,2)))\n",
    "    print(\"\\n\")\n",
    "    y_predict=kkn_model.predict(X_test)\n",
    "    generate_model_report(y_test,y_predict)\n",
    "    print(\"\\n\")\n",
    "    conf_mat=pd.crosstab(y_predict, y_test['Personal Loan'], rownames=['Predicted'], colnames=['Actual'])\n",
    "    print('\\033[1m Confusion Matrix \\033[0;0m')\n",
    "    print(\"\\n\")\n",
    "    print(conf_mat)\n"
   ]
  },
  {
   "cell_type": "code",
   "execution_count": 0,
   "metadata": {
    "colab": {},
    "colab_type": "code",
    "id": "3e8G_dB-Br5u"
   },
   "outputs": [],
   "source": [
    "def run_smote_model_nb(X,y,z):\n",
    "    print('\\033[1m Following results are for Navie Bayes Classifier using SMOTE \\033[0;0m')\n",
    "    from sklearn.naive_bayes import GaussianNB\n",
    "    from sklearn import metrics\n",
    "    X_train, X_test, y_train, y_test = train_test_split(X, y, test_size=0.30, random_state=1)\n",
    "    sm = SMOTE(random_state=12,ratio=z)\n",
    "    x_train_res, y_train_res = sm.fit_sample(X_train, y_train)\n",
    "    nb_model = GaussianNB()\n",
    "    nb_model.fit(x_train_res, y_train_res.ravel())\n",
    "    model_score_train=metrics.accuracy_score(y_train_res,nb_model.predict(x_train_res))\n",
    "    print('The Model Accuracy Score on train set is {}'.format(round(model_score_train,2)))\n",
    "    print(\"\\n\")\n",
    "\n",
    "    y_predict=nb_model.predict(X_test)\n",
    "    generate_model_report(y_test,y_predict)\n",
    "    print(\"\\n\")\n",
    "    conf_mat=pd.crosstab(y_predict, y_test['Personal Loan'], rownames=['Predicted'], colnames=['Actual'])\n",
    "    print('\\033[1m Confusion Matrix \\033[0;0m')\n",
    "    print(\"\\n\")\n",
    "    print(conf_mat)\n"
   ]
  },
  {
   "cell_type": "code",
   "execution_count": 20,
   "metadata": {
    "colab": {
     "base_uri": "https://localhost:8080/",
     "height": 318
    },
    "colab_type": "code",
    "id": "J3aRCaZoBumK",
    "outputId": "886d7b8c-2731-4970-a070-3dd99bebb52f"
   },
   "outputs": [
    {
     "name": "stdout",
     "output_type": "stream",
     "text": [
      "\u001b[1m Following results are for Logistic Regression using SMOTE \u001b[0;0m\n",
      "The Model Accuracy Score on train set is 0.89\n",
      "\n",
      "\n",
      "Accuracy =  0.916\n",
      "Precision =  0.5566502463054187\n",
      "Recall =  0.7583892617449665\n",
      "F1 Score =  0.6420454545454546\n",
      "\n",
      "\n",
      "\u001b[1m Confusion Matrix \u001b[0;0m\n",
      "\n",
      "\n",
      "Actual        0    1\n",
      "Predicted           \n",
      "0          1261   36\n",
      "1            90  113\n"
     ]
    }
   ],
   "source": [
    "run_smote_model_log(X,y,0.5)"
   ]
  },
  {
   "cell_type": "code",
   "execution_count": 21,
   "metadata": {
    "colab": {
     "base_uri": "https://localhost:8080/",
     "height": 318
    },
    "colab_type": "code",
    "id": "X_ib2LbzB88D",
    "outputId": "4512943c-2f6d-447d-a367-0dd65bd20917"
   },
   "outputs": [
    {
     "name": "stdout",
     "output_type": "stream",
     "text": [
      "\u001b[1m Following results are for KNN using SMOTE \u001b[0;0m\n",
      "The Model Accuracy Score on train set is 1.0\n",
      "\n",
      "\n",
      "Accuracy =  0.9573333333333334\n",
      "Precision =  0.7575757575757576\n",
      "Recall =  0.8389261744966443\n",
      "F1 Score =  0.7961783439490445\n",
      "\n",
      "\n",
      "\u001b[1m Confusion Matrix \u001b[0;0m\n",
      "\n",
      "\n",
      "Actual        0    1\n",
      "Predicted           \n",
      "0          1311   24\n",
      "1            40  125\n"
     ]
    }
   ],
   "source": [
    "run_smote_model_knn(X,y,0.5,5)"
   ]
  },
  {
   "cell_type": "code",
   "execution_count": 24,
   "metadata": {
    "colab": {
     "base_uri": "https://localhost:8080/",
     "height": 318
    },
    "colab_type": "code",
    "id": "PiTh6y8nCPH5",
    "outputId": "3b109232-c324-4526-b67a-3d9579a1fa57"
   },
   "outputs": [
    {
     "name": "stdout",
     "output_type": "stream",
     "text": [
      "\u001b[1m Following results are for Navie Bayes Classifier using SMOTE \u001b[0;0m\n",
      "The Model Accuracy Score on train set is 0.85\n",
      "\n",
      "\n",
      "Accuracy =  0.868\n",
      "Precision =  0.4\n",
      "Recall =  0.6577181208053692\n",
      "F1 Score =  0.4974619289340102\n",
      "\n",
      "\n",
      "\u001b[1m Confusion Matrix \u001b[0;0m\n",
      "\n",
      "\n",
      "Actual        0   1\n",
      "Predicted          \n",
      "0          1204  51\n",
      "1           147  98\n"
     ]
    }
   ],
   "source": [
    "run_smote_model_nb(X,y,0.5)"
   ]
  },
  {
   "cell_type": "markdown",
   "metadata": {
    "colab_type": "text",
    "id": "xEdw6Ljt4Ptt"
   },
   "source": [
    "### **From the above functions outputs for 3 different model, it is pretty evident that SMOTE's application on the problem set has significantly improved model performance. Considering the problem statement, the ideal model should be with high recall**\n",
    "### **Looking at the results for the three models, Navie Bayes has not performed well enough. On the other hand, KNN and Logistic have performed very well.**\n",
    "### **Among Logistic and KNN, KNN evaluation results are very significant compared to that of Logistic reg and is the best model. Reason being the Overall accuracy of KNN is 96% with Recall of 84% which says 'out of the total 1's predicted by the model, 84% of them are 1's in actual case'. The F1 score of the model is 80% which is excellent**"
   ]
  },
  {
   "cell_type": "markdown",
   "metadata": {
    "colab_type": "text",
    "id": "ottxVuxY8Dxu"
   },
   "source": [
    "##                              **KNN WIN's**\n",
    "\n"
   ]
  },
  {
   "cell_type": "code",
   "execution_count": 0,
   "metadata": {
    "colab": {},
    "colab_type": "code",
    "id": "0dTDqVB_7LqD"
   },
   "outputs": [],
   "source": []
  }
 ],
 "metadata": {
  "colab": {
   "collapsed_sections": [],
   "name": "GL-SUPERVISED LEARNING PROJECT2.ipynb",
   "provenance": []
  },
  "kernelspec": {
   "display_name": "Python 3",
   "language": "python",
   "name": "python3"
  },
  "language_info": {
   "codemirror_mode": {
    "name": "ipython",
    "version": 3
   },
   "file_extension": ".py",
   "mimetype": "text/x-python",
   "name": "python",
   "nbconvert_exporter": "python",
   "pygments_lexer": "ipython3",
   "version": "3.6.5"
  }
 },
 "nbformat": 4,
 "nbformat_minor": 1
}
